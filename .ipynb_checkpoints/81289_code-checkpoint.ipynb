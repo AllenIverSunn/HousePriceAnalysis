{
 "cells": [
  {
   "cell_type": "code",
   "execution_count": 1,
   "metadata": {},
   "outputs": [],
   "source": [
    "import pandas as pd\n",
    "import numpy as np\n",
    "import matplotlib.pyplot as plt\n",
    "import copy\n",
    "np.random.seed(3)\n",
    "%matplotlib inline"
   ]
  },
  {
   "cell_type": "markdown",
   "metadata": {},
   "source": [
    "# 一、LSTM针对时间数据进行预测"
   ]
  },
  {
   "cell_type": "markdown",
   "metadata": {},
   "source": [
    "## 1. 数据预处理"
   ]
  },
  {
   "cell_type": "code",
   "execution_count": 2,
   "metadata": {},
   "outputs": [],
   "source": [
    "# 1.数据预处理\n",
    "\n",
    "#读取数据\n",
    "data1 = pd.read_csv('fangchan/lianjia1.csv', encoding='gbk')\n",
    "data2 = pd.read_csv('fangchan/lianjia2.csv', encoding='gbk')\n",
    "data3 = pd.read_csv('fangchan/lianjia3.csv', encoding='utf-8')\n",
    "data4 = pd.read_csv('fangchan/lianjia4.csv', encoding='utf-8')\n",
    "data5 = pd.read_csv('fangchan/lianjia5.csv', encoding='utf-8')\n",
    "data6 = pd.read_csv('fangchan/lianjia6.csv', encoding='utf-8')\n",
    "data7 = pd.read_csv('fangchan/lianjia7.csv', encoding='utf-8')"
   ]
  },
  {
   "cell_type": "code",
   "execution_count": 3,
   "metadata": {},
   "outputs": [],
   "source": [
    "#将所有的数据行拼接\n",
    "data = pd.concat([data1, data2, data3, data4, data5,data6,data7])\n",
    "data_all=copy.deepcopy(data)"
   ]
  },
  {
   "cell_type": "code",
   "execution_count": null,
   "metadata": {},
   "outputs": [],
   "source": [
    "# #选取某个区域数据最多的门店进行分析\n",
    "# from collections import Counter\n",
    "# a=Counter(data_all.mendian)\n",
    "# maxCount_mendian=sorted(a,key=lambda x:a.get(x),reverse=True)[0]\n",
    "# data = data[data.mendian.str.contains(maxCount_mendian)]  \n",
    "# print('maxCount_mendian:%s,%d'%(maxCount_mendian,a[maxCount_mendian]))"
   ]
  },
  {
   "cell_type": "markdown",
   "metadata": {},
   "source": [
    "上面的代码在运行时出了错误，错误报告说有的地方有N/A值，查看了下数据才发现好多地方都有缺失数据，这导致计算中位数等操作无法正常进行，所以此处将所有有缺失项的数据丢弃"
   ]
  },
  {
   "cell_type": "code",
   "execution_count": 4,
   "metadata": {},
   "outputs": [],
   "source": [
    "#过滤所有的缺失数据\n",
    "data=data.dropna()"
   ]
  },
  {
   "cell_type": "markdown",
   "metadata": {},
   "source": [
    "丢弃缺失数据后操作就可以正常进行了"
   ]
  },
  {
   "cell_type": "code",
   "execution_count": 3,
   "metadata": {},
   "outputs": [
    {
     "name": "stdout",
     "output_type": "stream",
     "text": [
      "maxCount_mendian:新青年汇店,577\n"
     ]
    }
   ],
   "source": [
    "#选取某个区域数据最多的门店进行分析\n",
    "from collections import Counter\n",
    "a=Counter(data_all.mendian)\n",
    "maxCount_mendian=sorted(a,key=lambda x:a.get(x),reverse=True)[0]\n",
    "data = data[data.mendian.str.contains(maxCount_mendian)]  \n",
    "print('maxCount_mendian:%s,%d'%(maxCount_mendian,a[maxCount_mendian]))"
   ]
  },
  {
   "cell_type": "code",
   "execution_count": 4,
   "metadata": {},
   "outputs": [],
   "source": [
    "#提取楼层数字/面积数字/单价数字\n",
    "data=data.assign(mianji = data.cjxiaoqu.str.extract('(\\d+)平',expand=False).astype(np.float32))\n",
    "data=data.assign(louceng = data.cjlouceng.str.extract('(\\d+)层',expand=False).astype(np.float32))\n",
    "data=data.assign(danjia = np.round(data.cjdanjia.str.replace('元/平','').astype(np.float32).map(lambda x: x/10000), 2))\n",
    "\n",
    "#处理时间数据\n",
    "data.cjshijian = pd.to_datetime(data.cjshijian.map(lambda x :x[5:]))\n",
    "data = data.sort_values(by='cjshijian')\n",
    "data.set_index('cjshijian', inplace=True) #按照时间排序,且重写表格 \n",
    "data = data['2012':]\n",
    "data = data[data.danjia > 1]   #只选单价大于10000的分析\n",
    "data=data.assign(time = (data.index - pd.to_datetime('2012-01-01')).days) #将时间数据处理为2012-1-1之后的间隔天-int型数据\n"
   ]
  },
  {
   "cell_type": "markdown",
   "metadata": {},
   "source": [
    "## 2. 探索性数据分析"
   ]
  },
  {
   "cell_type": "code",
   "execution_count": 5,
   "metadata": {},
   "outputs": [
    {
     "data": {
      "text/plain": [
       "<matplotlib.collections.PathCollection at 0x16c00364a58>"
      ]
     },
     "execution_count": 5,
     "metadata": {},
     "output_type": "execute_result"
    },
    {
     "data": {
      "image/png": "[encoded data removed]",
      "text/plain": [
       "<Figure size 432x288 with 1 Axes>"
      ]
     },
     "metadata": {},
     "output_type": "display_data"
    }
   ],
   "source": [
    "plt.scatter(data.time, data.danjia)"
   ]
  },
  {
   "cell_type": "markdown",
   "metadata": {},
   "source": [
    "## 3. 划分训练测试集并初始化训练测试数据"
   ]
  },
  {
   "cell_type": "code",
   "execution_count": 7,
   "metadata": {},
   "outputs": [
    {
     "data": {
      "text/plain": [
       "((361, 4), (156, 4))"
      ]
     },
     "execution_count": 7,
     "metadata": {},
     "output_type": "execute_result"
    }
   ],
   "source": [
    "train_size = int(np.floor(len(data) * 0.7))\n",
    "#获得训练数据\n",
    "train_data = data[['time', 'mianji','louceng','danjia']].iloc[:train_size, :]\n",
    "test_data = data[['time', 'mianji','louceng','danjia']].iloc[train_size:, :]\n",
    "train_data.shape, test_data.shape"
   ]
  },
  {
   "cell_type": "code",
   "execution_count": 8,
   "metadata": {},
   "outputs": [
    {
     "name": "stdout",
     "output_type": "stream",
     "text": [
      "train shape (361, 3) (361,)\n",
      "test shape (156, 3) (156,)\n"
     ]
    }
   ],
   "source": [
    "from sklearn.preprocessing import minmax_scale\n",
    "# 训练数据和标签，训练\n",
    "train_x = minmax_scale(train_data.values[:, :-1], axis=0)\n",
    "train_y = minmax_scale(train_data.values[:, -1].reshape((-1, 1)), axis=0).squeeze()\n",
    "test_x = minmax_scale(test_data.values[:, :-1], axis=0)\n",
    "test_y = minmax_scale(test_data.values[:, -1].reshape((-1, 1)), axis=0).squeeze()\n",
    "print('train shape', train_x.shape, train_y.shape)\n",
    "print('test shape', test_x.shape, test_y.shape)"
   ]
  },
  {
   "cell_type": "code",
   "execution_count": 94,
   "metadata": {},
   "outputs": [
    {
     "name": "stdout",
     "output_type": "stream",
     "text": [
      "train_data.shape (361, 4)\n"
     ]
    },
    {
     "data": {
      "text/html": [
       "<div>\n",
       "<style scoped>\n",
       "    .dataframe tbody tr th:only-of-type {\n",
       "        vertical-align: middle;\n",
       "    }\n",
       "\n",
       "    .dataframe tbody tr th {\n",
       "        vertical-align: top;\n",
       "    }\n",
       "\n",
       "    .dataframe thead th {\n",
       "        text-align: right;\n",
       "    }\n",
       "</style>\n",
       "<table border=\"1\" class=\"dataframe\">\n",
       "  <thead>\n",
       "    <tr style=\"text-align: right;\">\n",
       "      <th></th>\n",
       "      <th>time</th>\n",
       "      <th>mianji</th>\n",
       "      <th>louceng</th>\n",
       "      <th>danjia</th>\n",
       "    </tr>\n",
       "    <tr>\n",
       "      <th>cjshijian</th>\n",
       "      <th></th>\n",
       "      <th></th>\n",
       "      <th></th>\n",
       "      <th></th>\n",
       "    </tr>\n",
       "  </thead>\n",
       "  <tbody>\n",
       "    <tr>\n",
       "      <th>2015-12-05</th>\n",
       "      <td>1434</td>\n",
       "      <td>73.0</td>\n",
       "      <td>21.0</td>\n",
       "      <td>5.17</td>\n",
       "    </tr>\n",
       "    <tr>\n",
       "      <th>2015-12-08</th>\n",
       "      <td>1437</td>\n",
       "      <td>79.0</td>\n",
       "      <td>14.0</td>\n",
       "      <td>4.01</td>\n",
       "    </tr>\n",
       "    <tr>\n",
       "      <th>2015-12-08</th>\n",
       "      <td>1437</td>\n",
       "      <td>79.0</td>\n",
       "      <td>14.0</td>\n",
       "      <td>4.01</td>\n",
       "    </tr>\n",
       "    <tr>\n",
       "      <th>2015-12-09</th>\n",
       "      <td>1438</td>\n",
       "      <td>125.0</td>\n",
       "      <td>29.0</td>\n",
       "      <td>3.26</td>\n",
       "    </tr>\n",
       "    <tr>\n",
       "      <th>2015-12-12</th>\n",
       "      <td>1441</td>\n",
       "      <td>70.0</td>\n",
       "      <td>16.0</td>\n",
       "      <td>3.28</td>\n",
       "    </tr>\n",
       "    <tr>\n",
       "      <th>2015-12-15</th>\n",
       "      <td>1444</td>\n",
       "      <td>118.0</td>\n",
       "      <td>16.0</td>\n",
       "      <td>2.76</td>\n",
       "    </tr>\n",
       "    <tr>\n",
       "      <th>2015-12-15</th>\n",
       "      <td>1444</td>\n",
       "      <td>118.0</td>\n",
       "      <td>16.0</td>\n",
       "      <td>2.76</td>\n",
       "    </tr>\n",
       "    <tr>\n",
       "      <th>2015-12-19</th>\n",
       "      <td>1448</td>\n",
       "      <td>110.0</td>\n",
       "      <td>29.0</td>\n",
       "      <td>3.81</td>\n",
       "    </tr>\n",
       "    <tr>\n",
       "      <th>2015-12-19</th>\n",
       "      <td>1448</td>\n",
       "      <td>92.0</td>\n",
       "      <td>13.0</td>\n",
       "      <td>4.39</td>\n",
       "    </tr>\n",
       "    <tr>\n",
       "      <th>2015-12-19</th>\n",
       "      <td>1448</td>\n",
       "      <td>38.0</td>\n",
       "      <td>20.0</td>\n",
       "      <td>4.28</td>\n",
       "    </tr>\n",
       "  </tbody>\n",
       "</table>\n",
       "</div>"
      ],
      "text/plain": [
       "            time  mianji  louceng  danjia\n",
       "cjshijian                                \n",
       "2015-12-05  1434    73.0     21.0    5.17\n",
       "2015-12-08  1437    79.0     14.0    4.01\n",
       "2015-12-08  1437    79.0     14.0    4.01\n",
       "2015-12-09  1438   125.0     29.0    3.26\n",
       "2015-12-12  1441    70.0     16.0    3.28\n",
       "2015-12-15  1444   118.0     16.0    2.76\n",
       "2015-12-15  1444   118.0     16.0    2.76\n",
       "2015-12-19  1448   110.0     29.0    3.81\n",
       "2015-12-19  1448    92.0     13.0    4.39\n",
       "2015-12-19  1448    38.0     20.0    4.28"
      ]
     },
     "execution_count": 94,
     "metadata": {},
     "output_type": "execute_result"
    },
    {
     "data": {
      "image/png": "[encoded data removed]",
      "text/plain": [
       "<Figure size 432x288 with 1 Axes>"
      ]
     },
     "metadata": {},
     "output_type": "display_data"
    }
   ],
   "source": [
    "# # 训练数据可视化展示，可以看出单价随时间有一个变化的趋势，需要借助其他特征进行更好的拟合\n",
    "# data = train_data[['time', 'danjia']]\n",
    "# plt.scatter(data.time, data.danjia)\n",
    "# plt.savefig('./fangjia_time.png', bbox_inchs='tight', quality=95)\n",
    "# # 训练数据的数量\n",
    "# print('train_data.shape',train_data.shape)\n",
    "# # 部分训练数据展示\n",
    "# train_data.tail(10)"
   ]
  },
  {
   "cell_type": "code",
   "execution_count": 95,
   "metadata": {},
   "outputs": [
    {
     "name": "stdout",
     "output_type": "stream",
     "text": [
      "train shape (361, 3) (361,)\n",
      "test shape (156, 3) (156,)\n"
     ]
    }
   ],
   "source": [
    "# from sklearn.preprocessing import minmax_scale\n",
    "# # 训练数据和标签，训练\n",
    "# train_x = minmax_scale(train_data.values[:, :-1], axis=0)\n",
    "# train_y = minmax_scale(train_data.values[:, -1].reshape((-1, 1)), axis=0).squeeze()\n",
    "# test_x = minmax_scale(test_data.values[:, :-1], axis=0)\n",
    "# test_y = minmax_scale(test_data.values[:, -1].reshape((-1, 1)), axis=0).squeeze()\n",
    "# print('train shape', train_x.shape, train_y.shape)\n",
    "# print('test shape', test_x.shape, test_y.shape)"
   ]
  },
  {
   "cell_type": "markdown",
   "metadata": {},
   "source": [
    "## 4. 构建模型"
   ]
  },
  {
   "cell_type": "code",
   "execution_count": 98,
   "metadata": {},
   "outputs": [],
   "source": [
    "import torch\n",
    "import torch.nn as nn\n",
    "import torch.utils.data as Data\n",
    "import torchvision\n",
    "from torch.optim import lr_scheduler\n",
    "# 构建CNN网络\n",
    "class RNN(nn.Module):\n",
    "    def __init__(self, input_size, hidden_size1, hidden_size2):\n",
    "        super(RNN, self).__init__()\n",
    "        self.hidden_size1 = hidden_size1\n",
    "        self.hidden_size2 = hidden_size2\n",
    "        self.lstm1 = nn.LSTMCell(input_size, hidden_size1)\n",
    "        self.relu1 = nn.ReLU()\n",
    "        self.lstm2 = nn.LSTMCell(hidden_size1, hidden_size2)\n",
    "        self.relu2 = nn.ReLU()\n",
    "        self.fc = nn.Linear(hidden_size2, 1)\n",
    "        \n",
    "        \n",
    "    def forward(self, x):\n",
    "        outputs = []\n",
    "        # Set initial states\n",
    "        h_t1 = torch.zeros(1, self.hidden_size1)\n",
    "        c_t1 = torch.zeros(1, self.hidden_size1)\n",
    "        h_t2 = torch.zeros(1, self.hidden_size2)\n",
    "        c_t2 = torch.zeros(1, self.hidden_size2)\n",
    "        for i in range(x.shape[0]):\n",
    "            input_t = x[i, :].view(1, -1)\n",
    "            h_t1, c_t1 = self.lstm1(input_t, (h_t1, c_t1))\n",
    "            h_t1 = self.relu1(h_t1)\n",
    "            h_t2, c_t2 = self.lstm2(h_t1, (h_t2, c_t2))\n",
    "            h_t2 = self.relu2(h_t2)\n",
    "            output = self.fc(h_t2)\n",
    "            outputs += [output]\n",
    "        outputs = torch.stack(outputs, 1).squeeze(2)\n",
    "        return outputs"
   ]
  },
  {
   "cell_type": "code",
   "execution_count": 101,
   "metadata": {},
   "outputs": [],
   "source": [
    "def init_weights(m):\n",
    "    if type(m) == nn.Linear:\n",
    "        torch.nn.init.xavier_uniform(m.weight)\n",
    "        m.bias.data.fill_(0.01)"
   ]
  },
  {
   "cell_type": "code",
   "execution_count": 537,
   "metadata": {},
   "outputs": [],
   "source": [
    "# def init_weights(m):\n",
    "#     if type(m) == nn.Linear:\n",
    "#         torch.nn.init.xavier_uniform(m.weight)\n",
    "#         m.bias.data.fill_(0.01)\n",
    "\n",
    "# class RNN(nn.Module):\n",
    "#     def __init__(self, input_size, hidden_size1, hidden_size2):\n",
    "#         super(RNN, self).__init__()\n",
    "#         self.hidden_size1 = hidden_size1\n",
    "#         self.hidden_size2 = hidden_size2\n",
    "#         self.fc1 = nn.Linear(input_size, hidden_size1)\n",
    "#         self.relu1 = nn.ReLU()\n",
    "#         self.fc2 = nn.Linear(hidden_size1, hidden_size2)\n",
    "#         self.relu2 = nn.ReLU()\n",
    "#         self.fc3 = nn.Linear(hidden_size2, 1)\n",
    "        \n",
    "        \n",
    "#     def forward(self, x):\n",
    "#         outputs = []\n",
    "#         # Set initial states\n",
    "# #         h_t1 = torch.zeros(1, self.hidden_size1)\n",
    "# #         c_t1 = torch.zeros(1, self.hidden_size1)\n",
    "# #         h_t2 = torch.zeros(1, self.hidden_size2)\n",
    "# #         c_t2 = torch.zeros(1, self.hidden_size2)\n",
    "#         for i in range(x.shape[0]):\n",
    "#             input_t = x[i, :].view(1, -1)\n",
    "# #             h_t1, c_t1 = self.lstm1(input_t, (h_t1, c_t1))\n",
    "# #             h_t2, c_t2 = self.lstm2(h_t1, (h_t2, c_t2))\n",
    "#             output = self.fc1(input_t)\n",
    "#             output = self.relu1(output)\n",
    "#             output = self.fc2(output)\n",
    "#             output = self.relu2(output)\n",
    "#             output = self.fc3(output)\n",
    "#             outputs.append(output)\n",
    "#         outputs = torch.stack(outputs, 1).squeeze(2)\n",
    "#         return outputs"
   ]
  },
  {
   "cell_type": "markdown",
   "metadata": {},
   "source": [
    "$L(y_{true}, y_{pred})=(y_{true}-y_{pred})^2$"
   ]
  },
  {
   "cell_type": "markdown",
   "metadata": {},
   "source": [
    "## 5. 训练"
   ]
  },
  {
   "cell_type": "code",
   "execution_count": 124,
   "metadata": {},
   "outputs": [
    {
     "name": "stderr",
     "output_type": "stream",
     "text": [
      "D:\\Anaconda3_52\\lib\\site-packages\\ipykernel_launcher.py:3: UserWarning: nn.init.xavier_uniform is now deprecated in favor of nn.init.xavier_uniform_.\n",
      "  This is separate from the ipykernel package so we can avoid doing imports until\n"
     ]
    },
    {
     "name": "stdout",
     "output_type": "stream",
     "text": [
      "Epoch [1/300], Loss: 0.2044\n",
      "Epoch [11/300], Loss: 0.1366\n",
      "Epoch [21/300], Loss: 0.0766\n",
      "Epoch [31/300], Loss: 0.0286\n",
      "Epoch [41/300], Loss: 0.0257\n",
      "Epoch [51/300], Loss: 0.0209\n",
      "Epoch [61/300], Loss: 0.0213\n",
      "Epoch [71/300], Loss: 0.0206\n",
      "Epoch [81/300], Loss: 0.0205\n",
      "Epoch [91/300], Loss: 0.0202\n",
      "Epoch [101/300], Loss: 0.0201\n",
      "Epoch [111/300], Loss: 0.0199\n",
      "Epoch [121/300], Loss: 0.0197\n",
      "Epoch [131/300], Loss: 0.0195\n",
      "Epoch [141/300], Loss: 0.0193\n",
      "Epoch [151/300], Loss: 0.0192\n",
      "Epoch [161/300], Loss: 0.0190\n",
      "Epoch [171/300], Loss: 0.0189\n",
      "Epoch [181/300], Loss: 0.0188\n",
      "Epoch [191/300], Loss: 0.0187\n",
      "Epoch [201/300], Loss: 0.0186\n",
      "Epoch [211/300], Loss: 0.0185\n",
      "Epoch [221/300], Loss: 0.0184\n",
      "Epoch [231/300], Loss: 0.0183\n",
      "Epoch [241/300], Loss: 0.0182\n",
      "Epoch [251/300], Loss: 0.0181\n",
      "Epoch [261/300], Loss: 0.0180\n",
      "Epoch [271/300], Loss: 0.0178\n",
      "Epoch [281/300], Loss: 0.0176\n",
      "Epoch [291/300], Loss: 0.0173\n"
     ]
    }
   ],
   "source": [
    "rnn = RNN(3, 30, 15)\n",
    "rnn.apply(init_weights)\n",
    "\n",
    "\n",
    "learning_rate = 0.001\n",
    "criterion = nn.MSELoss()\n",
    "optimizer = torch.optim.Adam(rnn.parameters(), lr=learning_rate)\n",
    "num_epochs = 300\n",
    "\n",
    "Loss = []\n",
    "for epoch in range(num_epochs):\n",
    "    optimizer.zero_grad()\n",
    "#     noise = torch.rand(train_x.shape) * 0.1\n",
    "    output = rnn(torch.FloatTensor(train_x))\n",
    "    loss = criterion(output.squeeze(), torch.FloatTensor(train_y)) +\\\n",
    "          (torch.std(output) - torch.std(torch.FloatTensor(train_y))) ** 2\n",
    "    Loss.append(loss.item())\n",
    "    loss.backward()\n",
    "    optimizer.step()\n",
    "    if epoch % 10 == 0:\n",
    "        print ('Epoch [%d/%d], Loss: %.4f' \n",
    "               %(epoch+1, num_epochs, loss.item()))"
   ]
  },
  {
   "cell_type": "code",
   "execution_count": 122,
   "metadata": {},
   "outputs": [
    {
     "data": {
      "image/png": "[encoded data removed]",
      "text/plain": [
       "<Figure size 432x288 with 1 Axes>"
      ]
     },
     "metadata": {},
     "output_type": "display_data"
    }
   ],
   "source": [
    "plt.plot(np.arange(len(Loss)), Loss)\n",
    "plt.xlabel('#epochs')\n",
    "plt.ylabel('Loss')\n",
    "plt.savefig('./Loss-50-30.png', bbox_inches='tight', quality=95)"
   ]
  },
  {
   "cell_type": "markdown",
   "metadata": {},
   "source": [
    "## 6. 测试"
   ]
  },
  {
   "cell_type": "code",
   "execution_count": 119,
   "metadata": {},
   "outputs": [],
   "source": [
    "outputs = None\n",
    "rnn.eval()\n",
    "outputs = rnn(torch.FloatTensor(test_x))\n",
    "    \n",
    "# for i in list(zip(outputs.detach().squeeze().tolist(), test_y.tolist())):\n",
    "#     print(i)"
   ]
  },
  {
   "cell_type": "code",
   "execution_count": 125,
   "metadata": {},
   "outputs": [
    {
     "data": {
      "text/plain": [
       "[<matplotlib.lines.Line2D at 0x1da98e04278>]"
      ]
     },
     "execution_count": 125,
     "metadata": {},
     "output_type": "execute_result"
    },
    {
     "data": {
      "image/png": "[encoded data removed]",
      "text/plain": [
       "<Figure size 432x288 with 1 Axes>"
      ]
     },
     "metadata": {},
     "output_type": "display_data"
    }
   ],
   "source": [
    "plt.plot(outputs.squeeze().detach().numpy(), '*')\n",
    "plt.plot(test_y, 'r*')\n",
    "# plt.savefig('./rnn_50-30.png', bbox_inches='tight', quality=95)\n",
    "# plt.plot(outputs.detach().numpy().squeeze() - test_y, 'g')"
   ]
  },
  {
   "cell_type": "markdown",
   "metadata": {},
   "source": [
    "# 二、随机森林对楼层和面积进行预测"
   ]
  },
  {
   "cell_type": "markdown",
   "metadata": {},
   "source": [
    "## 1. 数据预处理和训练测试集划分"
   ]
  },
  {
   "cell_type": "code",
   "execution_count": 9,
   "metadata": {},
   "outputs": [
    {
     "name": "stdout",
     "output_type": "stream",
     "text": [
      "train shape (361, 2) (361, 1)\n",
      "test shape (156, 2) (156, 1)\n"
     ]
    }
   ],
   "source": [
    "# 训练数据和标签，训练\n",
    "train_x = train_data[['louceng', 'mianji']].values\n",
    "train_y = train_data.values[:, -1].reshape((-1, 1))\n",
    "test_x = test_data[['louceng', 'mianji']].values\n",
    "test_y = test_data.values[:, -1].reshape((-1, 1))\n",
    "print('train shape', train_x.shape, train_y.shape)\n",
    "print('test shape', test_x.shape, test_y.shape)"
   ]
  },
  {
   "cell_type": "markdown",
   "metadata": {},
   "source": [
    "## 2. 训练"
   ]
  },
  {
   "cell_type": "code",
   "execution_count": 10,
   "metadata": {},
   "outputs": [
    {
     "name": "stderr",
     "output_type": "stream",
     "text": [
      "D:\\Anaconda3_52\\lib\\site-packages\\ipykernel_launcher.py:3: DataConversionWarning: A column-vector y was passed when a 1d array was expected. Please change the shape of y to (n_samples,), for example using ravel().\n",
      "  This is separate from the ipykernel package so we can avoid doing imports until\n"
     ]
    },
    {
     "data": {
      "text/plain": [
       "RandomForestRegressor(bootstrap=True, criterion='mse', max_depth=None,\n",
       "           max_features='auto', max_leaf_nodes=None,\n",
       "           min_impurity_decrease=0.0, min_impurity_split=None,\n",
       "           min_samples_leaf=1, min_samples_split=2,\n",
       "           min_weight_fraction_leaf=0.0, n_estimators=30, n_jobs=1,\n",
       "           oob_score=False, random_state=None, verbose=0, warm_start=False)"
      ]
     },
     "execution_count": 10,
     "metadata": {},
     "output_type": "execute_result"
    }
   ],
   "source": [
    "from sklearn.ensemble import RandomForestRegressor\n",
    "rfr = RandomForestRegressor(n_estimators=30)\n",
    "rfr.fit(train_x, train_y)\n",
    "# mlp.fit(train_x, train_y)"
   ]
  },
  {
   "cell_type": "markdown",
   "metadata": {},
   "source": [
    "## 3. 测试"
   ]
  },
  {
   "cell_type": "code",
   "execution_count": 11,
   "metadata": {},
   "outputs": [],
   "source": [
    "predict = rfr.predict(test_x)"
   ]
  },
  {
   "cell_type": "code",
   "execution_count": 12,
   "metadata": {},
   "outputs": [
    {
     "data": {
      "image/png": "[encoded data removed]",
      "text/plain": [
       "<Figure size 432x288 with 1 Axes>"
      ]
     },
     "metadata": {},
     "output_type": "display_data"
    }
   ],
   "source": [
    "plt.plot(test_data.louceng, predict, '*', alpha=0.5)\n",
    "plt.plot(test_data.louceng, test_y, 'r*', alpha=0.5)\n",
    "plt.savefig('./rf_2.png')"
   ]
  },
  {
   "cell_type": "code",
   "execution_count": null,
   "metadata": {},
   "outputs": [],
   "source": []
  }
 ],
 "metadata": {
  "kernelspec": {
   "display_name": "Python 3",
   "language": "python",
   "name": "python3"
  },
  "language_info": {
   "codemirror_mode": {
    "name": "ipython",
    "version": 3
   },
   "file_extension": ".py",
   "mimetype": "text/x-python",
   "name": "python",
   "nbconvert_exporter": "python",
   "pygments_lexer": "ipython3",
   "version": "3.6.5"
  }
 },
 "nbformat": 4,
 "nbformat_minor": 2
}
